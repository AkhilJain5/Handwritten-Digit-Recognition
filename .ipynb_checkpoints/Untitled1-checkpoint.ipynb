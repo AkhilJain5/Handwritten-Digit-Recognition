{
 "cells": [
  {
   "cell_type": "code",
   "execution_count": 1,
   "metadata": {
    "colab": {
     "base_uri": "https://localhost:8080/"
    },
    "id": "qJ-ZUDn-B3BU",
    "outputId": "279c7c13-d980-4c54-eb36-8f7c515dbbf1"
   },
   "outputs": [
    {
     "name": "stdout",
     "output_type": "stream",
     "text": [
      "Requirement already satisfied: torch in /usr/local/lib/python3.10/dist-packages (2.3.0+cu121)\n",
      "Requirement already satisfied: torchvision in /usr/local/lib/python3.10/dist-packages (0.18.0+cu121)\n",
      "Requirement already satisfied: numpy in /usr/local/lib/python3.10/dist-packages (1.25.2)\n",
      "Requirement already satisfied: filelock in /usr/local/lib/python3.10/dist-packages (from torch) (3.14.0)\n",
      "Requirement already satisfied: typing-extensions>=4.8.0 in /usr/local/lib/python3.10/dist-packages (from torch) (4.12.2)\n",
      "Requirement already satisfied: sympy in /usr/local/lib/python3.10/dist-packages (from torch) (1.12.1)\n",
      "Requirement already satisfied: networkx in /usr/local/lib/python3.10/dist-packages (from torch) (3.3)\n",
      "Requirement already satisfied: jinja2 in /usr/local/lib/python3.10/dist-packages (from torch) (3.1.4)\n",
      "Requirement already satisfied: fsspec in /usr/local/lib/python3.10/dist-packages (from torch) (2023.6.0)\n",
      "Collecting nvidia-cuda-nvrtc-cu12==12.1.105 (from torch)\n",
      "  Using cached nvidia_cuda_nvrtc_cu12-12.1.105-py3-none-manylinux1_x86_64.whl (23.7 MB)\n",
      "Collecting nvidia-cuda-runtime-cu12==12.1.105 (from torch)\n",
      "  Using cached nvidia_cuda_runtime_cu12-12.1.105-py3-none-manylinux1_x86_64.whl (823 kB)\n",
      "Collecting nvidia-cuda-cupti-cu12==12.1.105 (from torch)\n",
      "  Using cached nvidia_cuda_cupti_cu12-12.1.105-py3-none-manylinux1_x86_64.whl (14.1 MB)\n",
      "Collecting nvidia-cudnn-cu12==8.9.2.26 (from torch)\n",
      "  Using cached nvidia_cudnn_cu12-8.9.2.26-py3-none-manylinux1_x86_64.whl (731.7 MB)\n",
      "Collecting nvidia-cublas-cu12==12.1.3.1 (from torch)\n",
      "  Using cached nvidia_cublas_cu12-12.1.3.1-py3-none-manylinux1_x86_64.whl (410.6 MB)\n",
      "Collecting nvidia-cufft-cu12==11.0.2.54 (from torch)\n",
      "  Using cached nvidia_cufft_cu12-11.0.2.54-py3-none-manylinux1_x86_64.whl (121.6 MB)\n",
      "Collecting nvidia-curand-cu12==10.3.2.106 (from torch)\n",
      "  Using cached nvidia_curand_cu12-10.3.2.106-py3-none-manylinux1_x86_64.whl (56.5 MB)\n",
      "Collecting nvidia-cusolver-cu12==11.4.5.107 (from torch)\n",
      "  Using cached nvidia_cusolver_cu12-11.4.5.107-py3-none-manylinux1_x86_64.whl (124.2 MB)\n",
      "Collecting nvidia-cusparse-cu12==12.1.0.106 (from torch)\n",
      "  Using cached nvidia_cusparse_cu12-12.1.0.106-py3-none-manylinux1_x86_64.whl (196.0 MB)\n",
      "Collecting nvidia-nccl-cu12==2.20.5 (from torch)\n",
      "  Using cached nvidia_nccl_cu12-2.20.5-py3-none-manylinux2014_x86_64.whl (176.2 MB)\n",
      "Collecting nvidia-nvtx-cu12==12.1.105 (from torch)\n",
      "  Using cached nvidia_nvtx_cu12-12.1.105-py3-none-manylinux1_x86_64.whl (99 kB)\n",
      "Requirement already satisfied: triton==2.3.0 in /usr/local/lib/python3.10/dist-packages (from torch) (2.3.0)\n",
      "Collecting nvidia-nvjitlink-cu12 (from nvidia-cusolver-cu12==11.4.5.107->torch)\n",
      "  Downloading nvidia_nvjitlink_cu12-12.5.40-py3-none-manylinux2014_x86_64.whl (21.3 MB)\n",
      "\u001b[2K     \u001b[90m━━━━━━━━━━━━━━━━━━━━━━━━━━━━━━━━━━━━━━━━\u001b[0m \u001b[32m21.3/21.3 MB\u001b[0m \u001b[31m36.3 MB/s\u001b[0m eta \u001b[36m0:00:00\u001b[0m\n",
      "\u001b[?25hRequirement already satisfied: pillow!=8.3.*,>=5.3.0 in /usr/local/lib/python3.10/dist-packages (from torchvision) (9.4.0)\n",
      "Requirement already satisfied: MarkupSafe>=2.0 in /usr/local/lib/python3.10/dist-packages (from jinja2->torch) (2.1.5)\n",
      "Requirement already satisfied: mpmath<1.4.0,>=1.1.0 in /usr/local/lib/python3.10/dist-packages (from sympy->torch) (1.3.0)\n",
      "Installing collected packages: nvidia-nvtx-cu12, nvidia-nvjitlink-cu12, nvidia-nccl-cu12, nvidia-curand-cu12, nvidia-cufft-cu12, nvidia-cuda-runtime-cu12, nvidia-cuda-nvrtc-cu12, nvidia-cuda-cupti-cu12, nvidia-cublas-cu12, nvidia-cusparse-cu12, nvidia-cudnn-cu12, nvidia-cusolver-cu12\n",
      "Successfully installed nvidia-cublas-cu12-12.1.3.1 nvidia-cuda-cupti-cu12-12.1.105 nvidia-cuda-nvrtc-cu12-12.1.105 nvidia-cuda-runtime-cu12-12.1.105 nvidia-cudnn-cu12-8.9.2.26 nvidia-cufft-cu12-11.0.2.54 nvidia-curand-cu12-10.3.2.106 nvidia-cusolver-cu12-11.4.5.107 nvidia-cusparse-cu12-12.1.0.106 nvidia-nccl-cu12-2.20.5 nvidia-nvjitlink-cu12-12.5.40 nvidia-nvtx-cu12-12.1.105\n"
     ]
    }
   ],
   "source": [
    "# # Install necessary libraries\n",
    "# !pip install torch torchvision numpy"
   ]
  },
  {
   "cell_type": "code",
   "execution_count": 1,
   "metadata": {
    "id": "zniBFk0IGTHR"
   },
   "outputs": [
    {
     "ename": "ModuleNotFoundError",
     "evalue": "No module named 'torchvision'",
     "output_type": "error",
     "traceback": [
      "\u001b[1;31m---------------------------------------------------------------------------\u001b[0m",
      "\u001b[1;31mModuleNotFoundError\u001b[0m                       Traceback (most recent call last)",
      "\u001b[1;32m~\\AppData\\Local\\Temp\\ipykernel_39688\\3988652531.py\u001b[0m in \u001b[0;36m<module>\u001b[1;34m\u001b[0m\n\u001b[0;32m      9\u001b[0m \u001b[1;32mimport\u001b[0m \u001b[0mtorch\u001b[0m\u001b[1;33m.\u001b[0m\u001b[0moptim\u001b[0m \u001b[1;32mas\u001b[0m \u001b[0moptim\u001b[0m\u001b[1;33m\u001b[0m\u001b[1;33m\u001b[0m\u001b[0m\n\u001b[0;32m     10\u001b[0m \u001b[1;32mimport\u001b[0m \u001b[0mtorch\u001b[0m\u001b[1;33m.\u001b[0m\u001b[0mnn\u001b[0m\u001b[1;33m.\u001b[0m\u001b[0mfunctional\u001b[0m \u001b[1;32mas\u001b[0m \u001b[0mF\u001b[0m\u001b[1;33m\u001b[0m\u001b[1;33m\u001b[0m\u001b[0m\n\u001b[1;32m---> 11\u001b[1;33m \u001b[1;32mfrom\u001b[0m \u001b[0mtorchvision\u001b[0m \u001b[1;32mimport\u001b[0m \u001b[0mtransforms\u001b[0m\u001b[1;33m\u001b[0m\u001b[1;33m\u001b[0m\u001b[0m\n\u001b[0m",
      "\u001b[1;31mModuleNotFoundError\u001b[0m: No module named 'torchvision'"
     ]
    }
   ],
   "source": [
    "# Import necessary libraries\n",
    "import gzip\n",
    "import numpy as np\n",
    "import pandas as pd\n",
    "import matplotlib.pyplot as plt\n",
    "import torch\n",
    "from torch.utils.data import DataLoader, Dataset\n",
    "import torch.nn as nn\n",
    "import torch.optim as optim\n",
    "import torch.nn.functional as F\n",
    "from torchvision import transforms"
   ]
  },
  {
   "cell_type": "code",
   "execution_count": 3,
   "metadata": {
    "colab": {
     "base_uri": "https://localhost:8080/"
    },
    "id": "vzoP6Ve3GV3X",
    "outputId": "2b24f3b9-6185-401d-8c97-252f43e4babb"
   },
   "outputs": [
    {
     "name": "stdout",
     "output_type": "stream",
     "text": [
      "Mounted at /content/drive\n"
     ]
    }
   ],
   "source": [
    "# # Mount Google Drive to load data\n",
    "# from google.colab import drive\n",
    "# drive.mount('/content/drive')"
   ]
  },
  {
   "cell_type": "code",
   "execution_count": 13,
   "metadata": {
    "id": "tJ3hAm9sGV6S"
   },
   "outputs": [],
   "source": [
    "# Define the EMNISTDataset class\n",
    "class EMNISTDataset(Dataset):\n",
    "    def __init__(self, images_path, labels_path, transform=None):\n",
    "        self.images = self._read_images(images_path)\n",
    "        self.labels = self._read_labels(labels_path)\n",
    "        self.transform = transform\n",
    "\n",
    "    def _read_images(self, filepath):\n",
    "        with gzip.open(filepath, 'rb') as f:\n",
    "            f.read(16)\n",
    "            data = np.frombuffer(f.read(), dtype=np.uint8)\n",
    "            data = data.reshape(-1, 28, 28).astype(np.float32) / 255.0\n",
    "        return data\n",
    "\n",
    "    def _read_labels(self, filepath):\n",
    "        with gzip.open(filepath, 'rb') as f:\n",
    "            f.read(8)\n",
    "            data = np.frombuffer(f.read(), dtype=np.uint8)\n",
    "        return data\n",
    "\n",
    "    def __len__(self):\n",
    "        return len(self.labels)\n",
    "\n",
    "    def __getitem__(self, idx):\n",
    "        image, label = self.images[idx], self.labels[idx]\n",
    "        if self.transform:\n",
    "            image = np.uint8(image * 255)  # Ensure image is in uint8 format\n",
    "            image = image[:, :, np.newaxis]  # Add channel dimension\n",
    "            image = self.transform(image)\n",
    "        return image, label"
   ]
  },
  {
   "cell_type": "code",
   "execution_count": 14,
   "metadata": {
    "id": "6K7mu9XIGV9H"
   },
   "outputs": [],
   "source": [
    "# Data augmentation for training dataset\n",
    "train_transform = transforms.Compose([\n",
    "    transforms.ToTensor(),  # Convert images to PyTorch tensors\n",
    "    transforms.Normalize((0.5,), (0.5,))  # Normalize pixel values to be between -1 and 1\n",
    "])\n",
    "\n",
    "# No augmentation for test dataset, only normalization\n",
    "test_transform = transforms.Compose([\n",
    "    transforms.ToTensor(),  # Convert images to PyTorch tensors\n",
    "    transforms.Normalize((0.5,), (0.5,))  # Normalize pixel values to be between -1 and 1\n",
    "])\n"
   ]
  },
  {
   "cell_type": "code",
   "execution_count": 15,
   "metadata": {
    "id": "_rAVntizGWAF"
   },
   "outputs": [],
   "source": [
    "# Loading the testing and training Datasets along with labels\n",
    "train_dataset = EMNISTDataset('C:/Users/hp/OneDrive/Documents/GitHub/Handwritten-Digit-Recognition/Extended-MNIST-Dataset/emnist-byclass-train-images-idx3-ubyte.gz', \n",
    "                              'C:/Users/hp/OneDrive/Documents/GitHub/Handwritten-Digit-Recognition/Extended-MNIST-Dataset/emnist-byclass-train-labels-idx1-ubyte.gz',\n",
    "                             transform=train_transform)\n",
    "test_dataset = EMNISTDataset(r'C:\\Users\\hp\\OneDrive\\Documents\\GitHub\\Handwritten-Digit-Recognition\\Extended-MNIST-Dataset\\emnist-byclass-test-images-idx3-ubyte.gz', \n",
    "                             r'C:\\Users\\hp\\OneDrive\\Documents\\GitHub\\Handwritten-Digit-Recognition\\Extended-MNIST-Dataset\\emnist-byclass-test-labels-idx1-ubyte.gz',\n",
    "                            transform=test_transform)"
   ]
  },
  {
   "cell_type": "code",
   "execution_count": 16,
   "metadata": {
    "id": "338hT-0TGWC7"
   },
   "outputs": [],
   "source": [
    "# Batch the dataset using DataLoader\n",
    "train_loader = DataLoader(train_dataset, batch_size=64, shuffle=True)\n",
    "test_loader = DataLoader(test_dataset, batch_size=64, shuffle=False)\n"
   ]
  },
  {
   "cell_type": "code",
   "execution_count": 17,
   "metadata": {
    "id": "3lIWzgisGWFs"
   },
   "outputs": [],
   "source": [
    "# Define the class labels for the EMNIST dataset\n",
    "class_labels = \"0123456789ABCDEFGHIJKLMNOPQRSTUVWXYZabcdefghijklmnopqrstuvwxyz\""
   ]
  },
  {
   "cell_type": "code",
   "execution_count": 18,
   "metadata": {
    "colab": {
     "base_uri": "https://localhost:8080/",
     "height": 830
    },
    "id": "zIkUCwRSGWIg",
    "outputId": "8da95282-c97f-434a-a5c2-5cf588446095"
   },
   "outputs": [
    {
     "data": {
      "image/png": "[encoded data removed]",
      "text/plain": [
       "<Figure size 1000x1000 with 16 Axes>"
      ]
     },
     "metadata": {},
     "output_type": "display_data"
    }
   ],
   "source": [
    "# Configure matplotlib to use a common font\n",
    "plt.rcParams['font.family'] = 'DejaVu Sans'\n",
    "plt.rcParams['font.size'] = 12\n",
    "\n",
    "# Function to map labels to characters\n",
    "def label_to_char(label):\n",
    "    if label < 10:\n",
    "        return chr(label + 48)  # 0-9\n",
    "    elif label < 36:\n",
    "        return chr(label + 55)  # A-Z\n",
    "    else:\n",
    "        return chr(label + 61)  # a-z\n",
    "\n",
    "# Function to display images from the dataset\n",
    "def show_emnist_images(images, labels, num_images=16):\n",
    "    num_rows = int(num_images**0.5)\n",
    "    num_cols = int(num_images**0.5)\n",
    "\n",
    "    fig, axes = plt.subplots(num_rows, num_cols, figsize=(10, 10))\n",
    "    fig.subplots_adjust(hspace=0.5)\n",
    "\n",
    "    for i in range(num_images):\n",
    "        row = i // num_cols\n",
    "        col = i % num_cols\n",
    "        ax = axes[row, col]\n",
    "        ax.imshow(images[i].numpy().squeeze(), cmap='gray')\n",
    "        ax.set_title(f'Label: {label_to_char(labels[i].item())}')\n",
    "        ax.axis('off')\n",
    "\n",
    "    plt.show()\n",
    "\n",
    "# Display some sample images from the training dataset\n",
    "sample_images, sample_labels = next(iter(train_loader))\n",
    "show_emnist_images(sample_images, sample_labels)"
   ]
  },
  {
   "cell_type": "code",
   "execution_count": 19,
   "metadata": {
    "id": "3sdkYCLPGWLL"
   },
   "outputs": [],
   "source": [
    "# Define device\n",
    "device = torch.device(\"cuda\" if torch.cuda.is_available() else \"cpu\")"
   ]
  },
  {
   "cell_type": "code",
   "execution_count": 20,
   "metadata": {
    "id": "vhFwrKuqGWN6"
   },
   "outputs": [],
   "source": [
    "# Define a simple MLP model\n",
    "class MLP(nn.Module):\n",
    "    def __init__(self):\n",
    "        super(MLP, self).__init__()\n",
    "        self.fc1 = nn.Linear(28*28, 512)\n",
    "        self.fc2 = nn.Linear(512, 256)\n",
    "        self.fc3 = nn.Linear(256, 62)  # 62 classes for EMNIST\n",
    "\n",
    "    def forward(self, x):\n",
    "        x = x.view(-1, 28*28)\n",
    "        x = F.relu(self.fc1(x))\n",
    "        x = F.relu(self.fc2(x))\n",
    "        x = self.fc3(x)\n",
    "        return x\n",
    "\n",
    "# Initialize the MLP model\n",
    "mlp_model = MLP().to(device)\n",
    "mlp_optimizer = optim.Adam(mlp_model.parameters(), lr=0.001)\n",
    "mlp_criterion = nn.CrossEntropyLoss()"
   ]
  },
  {
   "cell_type": "code",
   "execution_count": 21,
   "metadata": {
    "id": "xbHd20P8GWQy"
   },
   "outputs": [],
   "source": [
    "# Define a simple CNN model\n",
    "class SimpleCNN(nn.Module):\n",
    "    def __init__(self):\n",
    "        super(SimpleCNN, self).__init__()\n",
    "        self.conv1 = nn.Conv2d(1, 32, kernel_size=3)\n",
    "        self.conv2 = nn.Conv2d(32, 64, kernel_size=3)\n",
    "        self.fc1 = nn.Linear(64*5*5, 128)\n",
    "        self.fc2 = nn.Linear(128, 62)\n",
    "\n",
    "    def forward(self, x):\n",
    "        x = F.relu(self.conv1(x))\n",
    "        x = F.max_pool2d(x, 2)\n",
    "        x = F.relu(self.conv2(x))\n",
    "        x = F.max_pool2d(x, 2)\n",
    "        x = x.view(-1, 64*5*5)\n",
    "        x = F.relu(self.fc1(x))\n",
    "        x = self.fc2(x)\n",
    "        return x\n",
    "\n",
    "# Initialize the simple CNN model\n",
    "simple_cnn_model = SimpleCNN().to(device)\n",
    "simple_cnn_optimizer = optim.Adam(simple_cnn_model.parameters(), lr=0.001)\n",
    "simple_cnn_criterion = nn.CrossEntropyLoss()"
   ]
  },
  {
   "cell_type": "code",
   "execution_count": 22,
   "metadata": {
    "id": "mpcTjL4SGWTf"
   },
   "outputs": [],
   "source": [
    "# Define the LeNet5 model\n",
    "class LeNet5(nn.Module):\n",
    "    def __init__(self):\n",
    "        super(LeNet5, self).__init__()\n",
    "        self.conv1 = nn.Conv2d(1, 6, kernel_size=5)\n",
    "        self.conv2 = nn.Conv2d(6, 16, kernel_size=5)\n",
    "        self.fc1 = nn.Linear(16*4*4, 120)\n",
    "        self.fc2 = nn.Linear(120, 84)\n",
    "        self.fc3 = nn.Linear(84, 62)\n",
    "\n",
    "    def forward(self, x):\n",
    "        x = F.relu(self.conv1(x))\n",
    "        x = F.max_pool2d(x, 2)\n",
    "        x = F.relu(self.conv2(x))\n",
    "        x = F.max_pool2d(x, 2)\n",
    "        x = x.view(-1, 16*4*4)\n",
    "        x = F.relu(self.fc1(x))\n",
    "        x = F.relu(self.fc2(x))\n",
    "        x = self.fc3(x)\n",
    "        return x\n",
    "\n",
    "# Initialize the LeNet5 model\n",
    "lenet5_model = LeNet5().to(device)\n",
    "lenet5_optimizer = optim.Adam(lenet5_model.parameters(), lr=0.001)\n",
    "lenet5_criterion = nn.CrossEntropyLoss()"
   ]
  },
  {
   "cell_type": "code",
   "execution_count": 23,
   "metadata": {
    "id": "1rNS-47pGWWK"
   },
   "outputs": [],
   "source": [
    "# Function to train the model with detailed epoch information\n",
    "def train_model(model, train_loader, test_loader, criterion, optimizer, num_epochs=10):\n",
    "    train_losses = []\n",
    "    train_accuracies = []\n",
    "    test_losses = []\n",
    "    test_accuracies = []\n",
    "\n",
    "    for epoch in range(num_epochs):\n",
    "        trn_corr = 0\n",
    "        tst_corr = 0\n",
    "\n",
    "        # Training Phase\n",
    "        model.train()\n",
    "        for b, (X_train, y_train) in enumerate(train_loader):\n",
    "            X_train, y_train = X_train.to(device), y_train.to(device)\n",
    "            optimizer.zero_grad()\n",
    "            y_pred = model(X_train)\n",
    "            loss = criterion(y_pred, y_train)\n",
    "            loss.backward()  # Back propagation\n",
    "            optimizer.step()\n",
    "\n",
    "            predicted = torch.max(y_pred.data, 1)[1]\n",
    "            batch_corr = (predicted == y_train).sum().item()\n",
    "            trn_corr += batch_corr\n",
    "\n",
    "        train_losses.append(loss.item())\n",
    "        train_accuracy = (trn_corr / len(train_loader.dataset)) * 100\n",
    "        train_accuracies.append(train_accuracy)\n",
    "\n",
    "        # Testing Phase\n",
    "        model.eval()\n",
    "        with torch.no_grad():\n",
    "            for b, (X_test, y_test) in enumerate(test_loader):\n",
    "                X_test, y_test = X_test.to(device), y_test.to(device)\n",
    "                y_val = model(X_test)\n",
    "                loss = criterion(y_val, y_test)\n",
    "\n",
    "                predicted = torch.max(y_val.data, 1)[1]\n",
    "                tst_corr += (predicted == y_test).sum().item()\n",
    "\n",
    "        test_losses.append(loss.item())\n",
    "        test_accuracy = (tst_corr / len(test_loader.dataset)) * 100\n",
    "        test_accuracies.append(test_accuracy)\n",
    "\n",
    "        # Display epoch information\n",
    "        print(f'Epoch: {epoch+1:2} Training Loss: {train_losses[-1]:.4f} Training Accuracy: {train_accuracy:.2f}% '\n",
    "              f'Test Loss: {test_losses[-1]:.4f} Test Accuracy: {test_accuracy:.2f}%')\n"
   ]
  },
  {
   "cell_type": "code",
   "execution_count": 24,
   "metadata": {
    "colab": {
     "base_uri": "https://localhost:8080/"
    },
    "id": "DYTkUttgGWZD",
    "outputId": "13bc77ae-c226-457d-ca2b-687051554c0a"
   },
   "outputs": [
    {
     "name": "stdout",
     "output_type": "stream",
     "text": [
      "Training MLP model...\n",
      "Epoch:  1 Training Loss: 0.4340 Training Accuracy: 79.28% Test Loss: 0.4015 Test Accuracy: 82.40%\n",
      "Epoch:  2 Training Loss: 0.4033 Training Accuracy: 82.67% Test Loss: 0.5290 Test Accuracy: 82.71%\n",
      "Epoch:  3 Training Loss: 0.4385 Training Accuracy: 83.33% Test Loss: 0.4342 Test Accuracy: 83.05%\n",
      "Epoch:  4 Training Loss: 0.4502 Training Accuracy: 83.61% Test Loss: 0.2628 Test Accuracy: 83.33%\n",
      "Epoch:  5 Training Loss: 0.1851 Training Accuracy: 83.86% Test Loss: 0.4784 Test Accuracy: 83.54%\n",
      "Epoch:  6 Training Loss: 0.2718 Training Accuracy: 84.00% Test Loss: 0.4942 Test Accuracy: 83.17%\n",
      "Epoch:  7 Training Loss: 0.4995 Training Accuracy: 84.08% Test Loss: 0.4549 Test Accuracy: 83.59%\n",
      "Epoch:  8 Training Loss: 0.6100 Training Accuracy: 84.20% Test Loss: 0.3421 Test Accuracy: 83.90%\n",
      "Epoch:  9 Training Loss: 0.0537 Training Accuracy: 84.29% Test Loss: 0.3258 Test Accuracy: 83.63%\n",
      "Epoch: 10 Training Loss: 0.4025 Training Accuracy: 84.35% Test Loss: 0.5463 Test Accuracy: 83.69%\n"
     ]
    }
   ],
   "source": [
    "# Train and evaluate the MLP model\n",
    "print(\"Training MLP model...\")\n",
    "train_model(mlp_model, train_loader, test_loader, mlp_criterion, mlp_optimizer)"
   ]
  },
  {
   "cell_type": "code",
   "execution_count": 25,
   "metadata": {
    "colab": {
     "base_uri": "https://localhost:8080/"
    },
    "id": "3tNJ-V-oH9P1",
    "outputId": "90dcf981-1e7b-4e94-c053-bfeee6560f46"
   },
   "outputs": [
    {
     "name": "stdout",
     "output_type": "stream",
     "text": [
      "Model saved to mlp_model.pth\n"
     ]
    }
   ],
   "source": [
    "# Save the MLP model\n",
    "model_path = \"mlp_model.pth\"\n",
    "torch.save(mlp_model.state_dict(), model_path)\n",
    "print(f\"Model saved to {model_path}\")"
   ]
  },
  {
   "cell_type": "code",
   "execution_count": null,
   "metadata": {
    "colab": {
     "base_uri": "https://localhost:8080/"
    },
    "id": "6kz7SCY8GWcW",
    "outputId": "961043af-25a0-4710-8ade-1e410fc7e014"
   },
   "outputs": [
    {
     "name": "stdout",
     "output_type": "stream",
     "text": [
      "Training Simple CNN model...\n",
      "Epoch:  1 Training Loss: 0.5034 Training Accuracy: 83.41% Test Loss: 0.5620 Test Accuracy: 85.13%\n",
      "Epoch:  2 Training Loss: 0.5714 Training Accuracy: 86.01% Test Loss: 0.3850 Test Accuracy: 86.23%\n",
      "Epoch:  3 Training Loss: 0.0739 Training Accuracy: 86.59% Test Loss: 0.3641 Test Accuracy: 86.39%\n"
     ]
    }
   ],
   "source": [
    "# Train and evaluate the Simple CNN model\n",
    "print(\"Training Simple CNN model...\")\n",
    "train_model(simple_cnn_model, train_loader, test_loader, simple_cnn_criterion, simple_cnn_optimizer)"
   ]
  },
  {
   "cell_type": "code",
   "execution_count": null,
   "metadata": {
    "id": "qgPxCtRQH933"
   },
   "outputs": [],
   "source": [
    "# Save the Simple CNN model\n",
    "model_path = \"simple_cnn_model.pth\"\n",
    "torch.save(simple_cnn_model.state_dict(), model_path)\n",
    "print(f\"Model saved to {model_path}\")"
   ]
  },
  {
   "cell_type": "code",
   "execution_count": null,
   "metadata": {
    "id": "_erTPcqtGWes"
   },
   "outputs": [],
   "source": [
    "# Train and evaluate the LeNet5 model\n",
    "print(\"Training LeNet5 model...\")\n",
    "train_model(lenet5_model, train_loader, test_loader, lenet5_criterion, lenet5_optimizer)"
   ]
  },
  {
   "cell_type": "code",
   "execution_count": null,
   "metadata": {
    "id": "fprMsSj7GWiF"
   },
   "outputs": [],
   "source": [
    "# Save the LeNet5 model\n",
    "model_path = \"lenet5_model.pth\"\n",
    "torch.save(lenet5_model.state_dict(), model_path)\n",
    "print(f\"Model saved to {model_path}\")"
   ]
  },
  {
   "cell_type": "code",
   "execution_count": null,
   "metadata": {
    "id": "-SaOHhj2HzXo"
   },
   "outputs": [],
   "source": [
    "# Plotting losses and accuracies\n",
    "    plt.figure(figsize=(12, 5))\n",
    "\n",
    "    plt.subplot(1, 2, 1)\n",
    "    plt.plot(train_losses, label='Train Loss', marker='o')\n",
    "    plt.plot(test_losses, label='Test Loss', marker='*')\n",
    "    plt.xlabel('Epochs')\n",
    "    plt.ylabel('Loss')\n",
    "    plt.title('Loss over Epochs')\n",
    "    plt.legend()\n",
    "\n",
    "    plt.subplot(1, 2, 2)\n",
    "    plt.plot(train_accuracies, label='Train Accuracy', marker='o')\n",
    "    plt.plot(test_accuracies, label='Test Accuracy', marker='*')\n",
    "    plt.xlabel('Epochs')\n",
    "    plt.ylabel('Accuracy')\n",
    "    plt.title('Accuracy over Epochs')\n",
    "    plt.legend()\n",
    "\n",
    "    plt.show()"
   ]
  },
  {
   "cell_type": "code",
   "execution_count": null,
   "metadata": {
    "id": "7n5aG5QiHzaU"
   },
   "outputs": [],
   "source": [
    "# Evaluate the loaded model\n",
    "def evaluate_model(model, test_loader):\n",
    "    model.eval()\n",
    "    correct = 0\n",
    "    total = 0\n",
    "    with torch.no_grad():\n",
    "        for images, labels in test_loader:\n",
    "            images, labels = images.to(device), labels.to(device)\n",
    "            outputs = model(images)\n",
    "            _, predicted = torch.max(outputs.data, 1)\n",
    "            total += labels.size(0)\n",
    "            correct += (predicted == labels).sum().item()\n",
    "    accuracy = 100 * correct / total\n",
    "    print(f'Accuracy: {accuracy:.2f}%')"
   ]
  },
  {
   "cell_type": "code",
   "execution_count": null,
   "metadata": {
    "id": "RZtENJ-oHzdG"
   },
   "outputs": [],
   "source": []
  },
  {
   "cell_type": "code",
   "execution_count": null,
   "metadata": {
    "id": "bdAPYhGHHzgh"
   },
   "outputs": [],
   "source": []
  }
 ],
 "metadata": {
  "colab": {
   "provenance": []
  },
  "kernelspec": {
   "display_name": "Python 3 (ipykernel)",
   "language": "python",
   "name": "python3"
  },
  "language_info": {
   "codemirror_mode": {
    "name": "ipython",
    "version": 3
   },
   "file_extension": ".py",
   "mimetype": "text/x-python",
   "name": "python",
   "nbconvert_exporter": "python",
   "pygments_lexer": "ipython3",
   "version": "3.9.13"
  }
 },
 "nbformat": 4,
 "nbformat_minor": 1
}
