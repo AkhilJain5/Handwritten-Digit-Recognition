{
 "cells": [
  {
   "cell_type": "code",
   "execution_count": null,
   "id": "43e5888d",
   "metadata": {},
   "outputs": [],
   "source": [
    "# Created Virtual Environment 'virtualenv'"
   ]
  },
  {
   "cell_type": "code",
   "execution_count": 1,
   "id": "c19536d7",
   "metadata": {},
   "outputs": [
    {
     "name": "stdout",
     "output_type": "stream",
     "text": [
      "Requirement already satisfied: torch in d:\\anaconda\\lib\\site-packages (2.1.0)\n",
      "Collecting torchvision\n",
      "  Downloading torchvision-0.18.1-cp39-cp39-win_amd64.whl (1.2 MB)\n",
      "     ---------------------------------------- 1.2/1.2 MB 4.7 MB/s eta 0:00:00\n",
      "Requirement already satisfied: numpy in d:\\anaconda\\lib\\site-packages (1.24.4)\n",
      "Requirement already satisfied: typing-extensions in d:\\anaconda\\lib\\site-packages (from torch) (4.10.0)\n",
      "Requirement already satisfied: fsspec in d:\\anaconda\\lib\\site-packages (from torch) (2022.7.1)\n",
      "Requirement already satisfied: networkx in d:\\anaconda\\lib\\site-packages (from torch) (2.8.4)\n",
      "Requirement already satisfied: jinja2 in d:\\anaconda\\lib\\site-packages (from torch) (2.11.3)\n",
      "Requirement already satisfied: sympy in d:\\anaconda\\lib\\site-packages (from torch) (1.10.1)\n",
      "Requirement already satisfied: filelock in d:\\anaconda\\lib\\site-packages (from torch) (3.6.0)\n",
      "Collecting torch\n",
      "  Downloading torch-2.3.1-cp39-cp39-win_amd64.whl (159.7 MB)\n",
      "     -------------------------------------- 159.7/159.7 MB 2.7 MB/s eta 0:00:00\n",
      "Requirement already satisfied: pillow!=8.3.*,>=5.3.0 in d:\\anaconda\\lib\\site-packages (from torchvision) (9.2.0)\n",
      "Collecting mkl<=2021.4.0,>=2021.1.1\n",
      "  Using cached mkl-2021.4.0-py2.py3-none-win_amd64.whl (228.5 MB)\n",
      "Collecting tbb==2021.*\n",
      "  Using cached tbb-2021.12.0-py3-none-win_amd64.whl (286 kB)\n",
      "Collecting intel-openmp==2021.*\n",
      "  Using cached intel_openmp-2021.4.0-py2.py3-none-win_amd64.whl (3.5 MB)\n",
      "Requirement already satisfied: MarkupSafe>=0.23 in d:\\anaconda\\lib\\site-packages (from jinja2->torch) (2.0.1)\n",
      "Requirement already satisfied: mpmath>=0.19 in d:\\anaconda\\lib\\site-packages (from sympy->torch) (1.2.1)\n",
      "Installing collected packages: tbb, intel-openmp, mkl, torch, torchvision\n",
      "  Attempting uninstall: tbb\n",
      "    Found existing installation: TBB 0.2\n"
     ]
    },
    {
     "name": "stderr",
     "output_type": "stream",
     "text": [
      "ERROR: Cannot uninstall 'TBB'. It is a distutils installed project and thus we cannot accurately determine which files belong to it which would lead to only a partial uninstall.\n"
     ]
    }
   ],
   "source": [
    "# Installing Pytorch and Numpy Library for the Model\n",
    "!pip install torch torchvision numpy"
   ]
  },
  {
   "cell_type": "code",
   "execution_count": 2,
   "id": "1eb90b84",
   "metadata": {},
   "outputs": [
    {
     "name": "stdout",
     "output_type": "stream",
     "text": [
      "Requirement already satisfied: matplotlib in d:\\anaconda\\lib\\site-packages (3.5.2)\n",
      "Requirement already satisfied: cycler>=0.10 in d:\\anaconda\\lib\\site-packages (from matplotlib) (0.11.0)\n",
      "Requirement already satisfied: kiwisolver>=1.0.1 in d:\\anaconda\\lib\\site-packages (from matplotlib) (1.4.2)\n",
      "Requirement already satisfied: python-dateutil>=2.7 in d:\\anaconda\\lib\\site-packages (from matplotlib) (2.8.2)\n",
      "Requirement already satisfied: fonttools>=4.22.0 in d:\\anaconda\\lib\\site-packages (from matplotlib) (4.25.0)\n",
      "Requirement already satisfied: numpy>=1.17 in d:\\anaconda\\lib\\site-packages (from matplotlib) (1.24.4)\n",
      "Requirement already satisfied: packaging>=20.0 in d:\\anaconda\\lib\\site-packages (from matplotlib) (21.3)\n",
      "Requirement already satisfied: pyparsing>=2.2.1 in d:\\anaconda\\lib\\site-packages (from matplotlib) (3.0.9)\n",
      "Requirement already satisfied: pillow>=6.2.0 in d:\\anaconda\\lib\\site-packages (from matplotlib) (9.2.0)\n",
      "Requirement already satisfied: six>=1.5 in d:\\anaconda\\lib\\site-packages (from python-dateutil>=2.7->matplotlib) (1.16.0)\n"
     ]
    }
   ],
   "source": [
    "# Installing matplotlib for plotting & visualizations\n",
    "!pip install matplotlib"
   ]
  },
  {
   "cell_type": "code",
   "execution_count": 4,
   "id": "4f9aa78c",
   "metadata": {},
   "outputs": [],
   "source": [
    "# Importing all the necessary libraries\n",
    "import gzip # unzipping the files\n",
    "import numpy as np # Calculations\n",
    "import pandas as pd # Preprocessing\n",
    "import matplotlib.pyplot as plt # Plotting\n",
    "import torch # Model\n",
    "from torch.utils.data import DataLoader, Dataset"
   ]
  },
  {
   "cell_type": "code",
   "execution_count": 6,
   "id": "9286b0b4",
   "metadata": {},
   "outputs": [],
   "source": [
    "# Created EMNIST Class for the dataset processing\n",
    "class EMNISTDataset(Dataset):\n",
    "    def __init__(self, images_path, labels_path):\n",
    "        self.images = self._read_images(images_path)\n",
    "        self.labels = self._read_labels(labels_path)\n",
    "\n",
    "    def _read_images(self, filepath):\n",
    "        with gzip.open(filepath, 'rb') as f:\n",
    "            f.read(16)\n",
    "            data = np.frombuffer(f.read(), dtype=np.uint8)\n",
    "            data = data.reshape(-1, 28, 28).astype(np.float32) / 255.0\n",
    "            data = np.expand_dims(data, axis=1)\n",
    "        return data\n",
    "\n",
    "    def _read_labels(self, filepath):\n",
    "        with gzip.open(filepath, 'rb') as f:\n",
    "            f.read(8)\n",
    "            data = np.frombuffer(f.read(), dtype=np.uint8)\n",
    "        return data\n",
    "\n",
    "    def __len__(self):\n",
    "        return len(self.labels)\n",
    "\n",
    "    def __getitem__(self, idx):\n",
    "        return self.images[idx], self.labels[idx]"
   ]
  },
  {
   "cell_type": "code",
   "execution_count": 7,
   "id": "cd75d29c",
   "metadata": {},
   "outputs": [],
   "source": [
    "# Loading the  testing and training Datasets along with labels\n",
    "train_dataset = EMNISTDataset('C:/Users/hp/OneDrive/Documents/GitHub/Handwritten-Digit-Recognition/Extended-MNIST-Dataset/emnist-byclass-train-images-idx3-ubyte.gz', 'C:/Users/hp/OneDrive/Documents/GitHub/Handwritten-Digit-Recognition/Extended-MNIST-Dataset/emnist-byclass-train-labels-idx1-ubyte.gz')\n",
    "test_dataset = EMNISTDataset(r'C:\\Users\\hp\\OneDrive\\Documents\\GitHub\\Handwritten-Digit-Recognition\\Extended-MNIST-Dataset\\emnist-byclass-test-images-idx3-ubyte.gz', r'C:\\Users\\hp\\OneDrive\\Documents\\GitHub\\Handwritten-Digit-Recognition\\Extended-MNIST-Dataset\\emnist-byclass-test-labels-idx1-ubyte.gz')"
   ]
  },
  {
   "cell_type": "code",
   "execution_count": 8,
   "id": "f6b50566",
   "metadata": {},
   "outputs": [],
   "source": [
    "# Batching the dataset using the inbiuld DataLoader constructor\n",
    "train_loader = DataLoader(train_dataset, batch_size=64, shuffle=True)\n",
    "test_loader = DataLoader(test_dataset, batch_size=64, shuffle=False)"
   ]
  },
  {
   "cell_type": "code",
   "execution_count": 9,
   "id": "70e58706",
   "metadata": {
    "scrolled": true
   },
   "outputs": [
    {
     "data": {
      "image/png": "[encoded data removed]",
      "text/plain": [
       "<Figure size 1500x300 with 15 Axes>"
      ]
     },
     "metadata": {},
     "output_type": "display_data"
    }
   ],
   "source": [
    "# Define the class labels for EMNIST dataset\n",
    "class_labels = \"0123456789ABCDEFGHIJKLMNOPQRSTUVWXYZabcdefghijklmnopqrstuvwxyz\"\n",
    "\n",
    "# Function to display images from the dataset\n",
    "def display_images(images, labels, num_images=15):\n",
    "    fig, axes = plt.subplots(1, num_images, figsize=(15, 3))\n",
    "    for i in range(num_images):\n",
    "        ax = axes[i]\n",
    "        ax.imshow(images[i].squeeze(), cmap='gray')\n",
    "        ax.set_title(f\"Label: {class_labels[labels[i]]}\")\n",
    "        ax.axis('off')\n",
    "    plt.show()\n",
    "\n",
    "# Display some sample images from the training dataset\n",
    "sample_images, sample_labels = next(iter(train_loader))\n",
    "display_images(sample_images, sample_labels)"
   ]
  },
  {
   "cell_type": "code",
   "execution_count": 10,
   "id": "35ae8521",
   "metadata": {},
   "outputs": [],
   "source": [
    "# Created LeNet5 Model CLass\n",
    "import torch.nn as nn\n",
    "import torch.nn.functional as F\n",
    "\n",
    "class LeNet5(nn.Module):\n",
    "    def __init__(self):\n",
    "        super(LeNet5, self).__init__()\n",
    "        self.conv1 = nn.Conv2d(1, 6, kernel_size=5)\n",
    "        self.conv2 = nn.Conv2d(6, 16, kernel_size=5)\n",
    "        self.fc1 = nn.Linear(16*4*4, 120)\n",
    "        self.fc2 = nn.Linear(120, 84)\n",
    "        self.fc3 = nn.Linear(84, 62)  # EMNIST has 62 classes\n",
    "\n",
    "    def forward(self, x):\n",
    "        x = F.relu(self.conv1(x))\n",
    "        x = F.max_pool2d(x, 2)\n",
    "        x = F.relu(self.conv2(x))\n",
    "        x = F.max_pool2d(x, 2)\n",
    "        x = x.view(-1, 16*4*4)\n",
    "        x = F.relu(self.fc1(x))\n",
    "        x = F.relu(self.fc2(x))\n",
    "        x = self.fc3(x)\n",
    "        return x\n",
    "\n",
    "model = LeNet5()"
   ]
  },
  {
   "cell_type": "code",
   "execution_count": 11,
   "id": "52f14206",
   "metadata": {},
   "outputs": [
    {
     "name": "stdout",
     "output_type": "stream",
     "text": [
      "Epoch 1/10, Loss: 0.6255652816546372\n",
      "Epoch 2/10, Loss: 0.43952416897970514\n",
      "Epoch 3/10, Loss: 0.4134606642434406\n",
      "Epoch 4/10, Loss: 0.40024909040571766\n",
      "Epoch 5/10, Loss: 0.3919151665821505\n",
      "Epoch 6/10, Loss: 0.38547487941828645\n",
      "Epoch 7/10, Loss: 0.38140652499042277\n",
      "Epoch 8/10, Loss: 0.3779028046998478\n",
      "Epoch 9/10, Loss: 0.37493410683634104\n",
      "Epoch 10/10, Loss: 0.37271742531461016\n"
     ]
    }
   ],
   "source": [
    "import torch.optim as optim\n",
    "\n",
    "device = torch.device(\"cuda\" if torch.cuda.is_available() else \"cpu\")\n",
    "model.to(device)\n",
    "\n",
    "criterion = nn.CrossEntropyLoss()\n",
    "optimizer = optim.Adam(model.parameters(), lr=0.001)\n",
    "\n",
    "def train_model(model, train_loader, criterion, optimizer, num_epochs=10):\n",
    "    for epoch in range(num_epochs):\n",
    "        model.train()\n",
    "        running_loss = 0.0\n",
    "        for images, labels in train_loader:\n",
    "            images, labels = images.to(device), labels.to(device)\n",
    "            optimizer.zero_grad()\n",
    "            outputs = model(images)\n",
    "            loss = criterion(outputs, labels)\n",
    "            loss.backward()\n",
    "            optimizer.step()\n",
    "            running_loss += loss.item()\n",
    "        print(f\"Epoch {epoch+1}/{num_epochs}, Loss: {running_loss/len(train_loader)}\")\n",
    "\n",
    "train_model(model, train_loader, criterion, optimizer)"
   ]
  },
  {
   "cell_type": "code",
   "execution_count": 19,
   "id": "b85e51db",
   "metadata": {},
   "outputs": [
    {
     "name": "stdout",
     "output_type": "stream",
     "text": [
      "Accuracy: 85.84200888904172%\n"
     ]
    }
   ],
   "source": [
    "def evaluate_model(model, test_loader):\n",
    "    model.eval()\n",
    "    correct = 0\n",
    "    total = 0\n",
    "    with torch.no_grad():\n",
    "        for images, labels in test_loader:\n",
    "            images, labels = images.to(device), labels.to(device)\n",
    "            outputs = model(images)\n",
    "            _, predicted = torch.max(outputs.data, 1)\n",
    "            total += labels.size(0)\n",
    "            correct += (predicted == labels).sum().item()\n",
    "    print(f\"Accuracy: {100 * correct / total}%\")\n",
    "\n",
    "evaluate_model(model, test_loader)"
   ]
  },
  {
   "cell_type": "code",
   "execution_count": 20,
   "id": "c69f9ddf",
   "metadata": {},
   "outputs": [
    {
     "name": "stdout",
     "output_type": "stream",
     "text": [
      "Model's state_dict:\n",
      "conv1.weight \t torch.Size([6, 1, 5, 5])\n",
      "conv1.bias \t torch.Size([6])\n",
      "conv2.weight \t torch.Size([16, 6, 5, 5])\n",
      "conv2.bias \t torch.Size([16])\n",
      "fc1.weight \t torch.Size([120, 256])\n",
      "fc1.bias \t torch.Size([120])\n",
      "fc2.weight \t torch.Size([84, 120])\n",
      "fc2.bias \t torch.Size([84])\n",
      "fc3.weight \t torch.Size([62, 84])\n",
      "fc3.bias \t torch.Size([62])\n"
     ]
    }
   ],
   "source": [
    "print(\"Model's state_dict:\")\n",
    "for param_tensor in model.state_dict():\n",
    "    print(param_tensor, \"\\t\", model.state_dict()[param_tensor].size())"
   ]
  },
  {
   "cell_type": "code",
   "execution_count": 21,
   "id": "ef41d537",
   "metadata": {},
   "outputs": [
    {
     "name": "stdout",
     "output_type": "stream",
     "text": [
      "Model saved to lenet5_model.pth\n"
     ]
    }
   ],
   "source": [
    "model_path = \"lenet5_model.pth\"\n",
    "\n",
    "# Save the state dictionary\n",
    "torch.save(model, model_path)\n",
    "print(f\"Model saved to {model_path}\")"
   ]
  },
  {
   "cell_type": "code",
   "execution_count": 23,
   "id": "2cedab0c",
   "metadata": {},
   "outputs": [
    {
     "name": "stdout",
     "output_type": "stream",
     "text": [
      "Model loaded from lenet5_model.pth\n"
     ]
    }
   ],
   "source": [
    "# Assume `LeNet5` is your model class\n",
    "model = LeNet5()\n",
    "model_path = \"lenet5_model.pth\"\n",
    "\n",
    "# Load the state dictionary\n",
    "model = torch.load(model_path)\n",
    "\n",
    "# Set the model to evaluation mode\n",
    "model.eval()\n",
    "\n",
    "print(f\"Model loaded from {model_path}\")"
   ]
  },
  {
   "cell_type": "code",
   "execution_count": 24,
   "id": "fce2eb6d",
   "metadata": {},
   "outputs": [
    {
     "name": "stdout",
     "output_type": "stream",
     "text": [
      "Accuracy: 85.84200888904172%\n"
     ]
    }
   ],
   "source": [
    "evaluate_model(model, test_loader)"
   ]
  },
  {
   "cell_type": "code",
   "execution_count": null,
   "id": "8b6d05e2",
   "metadata": {},
   "outputs": [],
   "source": []
  }
 ],
 "metadata": {
  "kernelspec": {
   "display_name": "virtualenv",
   "language": "python",
   "name": "virtualenv"
  },
  "language_info": {
   "codemirror_mode": {
    "name": "ipython",
    "version": 3
   },
   "file_extension": ".py",
   "mimetype": "text/x-python",
   "name": "python",
   "nbconvert_exporter": "python",
   "pygments_lexer": "ipython3",
   "version": "3.9.13"
  }
 },
 "nbformat": 4,
 "nbformat_minor": 5
}
